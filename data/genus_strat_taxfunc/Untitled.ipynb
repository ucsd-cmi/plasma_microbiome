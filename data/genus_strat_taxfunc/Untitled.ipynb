{
 "cells": [
  {
   "cell_type": "code",
   "execution_count": 1,
   "metadata": {},
   "outputs": [],
   "source": [
    "from biom import Table, load_table"
   ]
  },
  {
   "cell_type": "code",
   "execution_count": 2,
   "metadata": {},
   "outputs": [
    {
     "name": "stdout",
     "output_type": "stream",
     "text": [
      "Untitled.ipynb         pathway2class.tsv      reaction2pathway.biom\r\n",
      "enzrxn2reaction.biom   protein.biom           reaction2pathway.tsv\r\n",
      "enzrxn2reaction.tsv    protein.tsv            uniref.biom\r\n",
      "\u001b[1m\u001b[34mfiltered\u001b[m\u001b[m/              protein2enzrxn.biom    uniref.tsv\r\n",
      "pathway2class.biom     protein2enzrxn.tsv\r\n"
     ]
    }
   ],
   "source": [
    "ls"
   ]
  },
  {
   "cell_type": "code",
   "execution_count": 4,
   "metadata": {},
   "outputs": [
    {
     "data": {
      "text/plain": [
       "23 x 384 <class 'biom.table.Table'> with 142 nonzero entries (1% dense)"
      ]
     },
     "execution_count": 4,
     "metadata": {},
     "output_type": "execute_result"
    }
   ],
   "source": [
    "x = load_table(\"reaction2pathway.biom\")\n",
    "x"
   ]
  }
 ],
 "metadata": {
  "kernelspec": {
   "display_name": "Python 3",
   "language": "python",
   "name": "python3"
  },
  "language_info": {
   "codemirror_mode": {
    "name": "ipython",
    "version": 3
   },
   "file_extension": ".py",
   "mimetype": "text/x-python",
   "name": "python",
   "nbconvert_exporter": "python",
   "pygments_lexer": "ipython3",
   "version": "3.6.7"
  }
 },
 "nbformat": 4,
 "nbformat_minor": 2
}
