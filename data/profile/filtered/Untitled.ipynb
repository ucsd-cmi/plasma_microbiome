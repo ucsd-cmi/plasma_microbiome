{
 "cells": [
  {
   "cell_type": "code",
   "execution_count": 1,
   "metadata": {},
   "outputs": [],
   "source": [
    "import pandas as pd"
   ]
  },
  {
   "cell_type": "code",
   "execution_count": 31,
   "metadata": {},
   "outputs": [
    {
     "name": "stdout",
     "output_type": "stream",
     "text": [
      "uniref_decontam_snm.biom uniref_decontam_snm.tsv\r\n"
     ]
    }
   ],
   "source": [
    "!ls ../../genus_strat_taxfunc/filtered_normalized"
   ]
  },
  {
   "cell_type": "code",
   "execution_count": 6,
   "metadata": {},
   "outputs": [
    {
     "name": "stdout",
     "output_type": "stream",
     "text": [
      "Untitled.ipynb        pathway2class.biom    protein2enzrxn.tsv\r\n",
      "enzrxn2reaction.biom  pathway2class.tsv     reaction2pathway.biom\r\n",
      "enzrxn2reaction.tsv   protein.biom          reaction2pathway.tsv\r\n",
      "\u001b[1m\u001b[34mfiltered\u001b[m\u001b[m              protein.tsv           uniref.biom\r\n",
      "\u001b[1m\u001b[34mfiltered_normalized\u001b[m\u001b[m   protein2enzrxn.biom   uniref.tsv\r\n"
     ]
    }
   ],
   "source": [
    "!ls ../../genus_strat_taxfunc"
   ]
  },
  {
   "cell_type": "code",
   "execution_count": 33,
   "metadata": {},
   "outputs": [],
   "source": [
    "df = pd.read_table(\"../../genus_strat_taxfunc/filtered_normalized/uniref_decontam_snm.tsv\")"
   ]
  },
  {
   "cell_type": "code",
   "execution_count": 10,
   "metadata": {},
   "outputs": [],
   "source": [
    "taxfunc = df[\"#OTU ID\"]"
   ]
  },
  {
   "cell_type": "code",
   "execution_count": 12,
   "metadata": {},
   "outputs": [],
   "source": [
    "unrefs = [x.split('|')[1] for x in taxfunc]"
   ]
  },
  {
   "cell_type": "code",
   "execution_count": 23,
   "metadata": {},
   "outputs": [
    {
     "data": {
      "text/plain": [
       "N8UGL3        9\n",
       "A0A336IQ10    9\n",
       "V2VQH4        8\n",
       "A0A1R7QFD9    7\n",
       "A0A159Z9Y3    6\n",
       "A0A231HGN8    6\n",
       "A0A2H4TKJ9    6\n",
       "A0A1P8PP33    6\n",
       "A0A1M9GCU1    5\n",
       "A0A0P0MBP2    5\n",
       "S7WWD8        5\n",
       "A0A380UMN9    5\n",
       "Q6FFK0        5\n",
       "T1XIS8        4\n",
       "A0A334QYM8    4\n",
       "V2VHD3        4\n",
       "A9C3D5        4\n",
       "A1TR36        4\n",
       "Q6FF90        4\n",
       "A0A2H4TKL0    4\n",
       "dtype: int64"
      ]
     },
     "execution_count": 23,
     "metadata": {},
     "output_type": "execute_result"
    }
   ],
   "source": [
    "multiples = []\n",
    "pd.Series(unrefs).value_counts().head(20)"
   ]
  },
  {
   "cell_type": "code",
   "execution_count": 26,
   "metadata": {},
   "outputs": [
    {
     "data": {
      "text/plain": [
       "['Acidovorax|A9C3D5',\n",
       " 'Aquabacterium|A9C3D5',\n",
       " 'Delftia|A9C3D5',\n",
       " 'Diaphorobacter|A9C3D5']"
      ]
     },
     "execution_count": 26,
     "metadata": {},
     "output_type": "execute_result"
    }
   ],
   "source": [
    "[x for x in taxfunc if \"A9C3D5\" in x]"
   ]
  }
 ],
 "metadata": {
  "kernelspec": {
   "display_name": "Python 3",
   "language": "python",
   "name": "python3"
  },
  "language_info": {
   "codemirror_mode": {
    "name": "ipython",
    "version": 3
   },
   "file_extension": ".py",
   "mimetype": "text/x-python",
   "name": "python",
   "nbconvert_exporter": "python",
   "pygments_lexer": "ipython3",
   "version": "3.7.3"
  }
 },
 "nbformat": 4,
 "nbformat_minor": 2
}
